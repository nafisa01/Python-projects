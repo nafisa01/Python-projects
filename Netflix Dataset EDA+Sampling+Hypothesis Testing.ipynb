{
 "cells": [
  {
   "cell_type": "code",
   "execution_count": 305,
   "id": "ba8995f2",
   "metadata": {},
   "outputs": [],
   "source": [
    "import pandas as pd\n",
    "import matplotlib.pyplot as plt\n",
    "import seaborn as sns\n",
    "import numpy as np\n",
    "import pingouin"
   ]
  },
  {
   "cell_type": "code",
   "execution_count": 306,
   "id": "b6a2ff3e",
   "metadata": {},
   "outputs": [],
   "source": [
    "df=pd.read_csv('/Users/nafisahasan/Downloads/NetflixOriginals.csv')"
   ]
  },
  {
   "cell_type": "code",
   "execution_count": 307,
   "id": "eb80a76a",
   "metadata": {},
   "outputs": [
    {
     "data": {
      "text/html": [
       "<div>\n",
       "<style scoped>\n",
       "    .dataframe tbody tr th:only-of-type {\n",
       "        vertical-align: middle;\n",
       "    }\n",
       "\n",
       "    .dataframe tbody tr th {\n",
       "        vertical-align: top;\n",
       "    }\n",
       "\n",
       "    .dataframe thead th {\n",
       "        text-align: right;\n",
       "    }\n",
       "</style>\n",
       "<table border=\"1\" class=\"dataframe\">\n",
       "  <thead>\n",
       "    <tr style=\"text-align: right;\">\n",
       "      <th></th>\n",
       "      <th>Title</th>\n",
       "      <th>Genre</th>\n",
       "      <th>Premiere</th>\n",
       "      <th>Runtime</th>\n",
       "      <th>IMDB Score</th>\n",
       "      <th>Language</th>\n",
       "    </tr>\n",
       "  </thead>\n",
       "  <tbody>\n",
       "    <tr>\n",
       "      <th>0</th>\n",
       "      <td>Enter the Anime</td>\n",
       "      <td>Documentary</td>\n",
       "      <td>August 5, 2019</td>\n",
       "      <td>58</td>\n",
       "      <td>2.5</td>\n",
       "      <td>English/Japanese</td>\n",
       "    </tr>\n",
       "    <tr>\n",
       "      <th>1</th>\n",
       "      <td>Dark Forces</td>\n",
       "      <td>Thriller</td>\n",
       "      <td>August 21, 2020</td>\n",
       "      <td>81</td>\n",
       "      <td>2.6</td>\n",
       "      <td>Spanish</td>\n",
       "    </tr>\n",
       "    <tr>\n",
       "      <th>2</th>\n",
       "      <td>The App</td>\n",
       "      <td>Science fiction/Drama</td>\n",
       "      <td>December 26, 2019</td>\n",
       "      <td>79</td>\n",
       "      <td>2.6</td>\n",
       "      <td>Italian</td>\n",
       "    </tr>\n",
       "    <tr>\n",
       "      <th>3</th>\n",
       "      <td>The Open House</td>\n",
       "      <td>Horror thriller</td>\n",
       "      <td>January 19, 2018</td>\n",
       "      <td>94</td>\n",
       "      <td>3.2</td>\n",
       "      <td>English</td>\n",
       "    </tr>\n",
       "    <tr>\n",
       "      <th>4</th>\n",
       "      <td>Kaali Khuhi</td>\n",
       "      <td>Mystery</td>\n",
       "      <td>October 30, 2020</td>\n",
       "      <td>90</td>\n",
       "      <td>3.4</td>\n",
       "      <td>Hindi</td>\n",
       "    </tr>\n",
       "  </tbody>\n",
       "</table>\n",
       "</div>"
      ],
      "text/plain": [
       "             Title                  Genre           Premiere  Runtime  \\\n",
       "0  Enter the Anime            Documentary     August 5, 2019       58   \n",
       "1      Dark Forces               Thriller    August 21, 2020       81   \n",
       "2          The App  Science fiction/Drama  December 26, 2019       79   \n",
       "3   The Open House        Horror thriller   January 19, 2018       94   \n",
       "4      Kaali Khuhi                Mystery   October 30, 2020       90   \n",
       "\n",
       "   IMDB Score          Language  \n",
       "0         2.5  English/Japanese  \n",
       "1         2.6           Spanish  \n",
       "2         2.6           Italian  \n",
       "3         3.2           English  \n",
       "4         3.4             Hindi  "
      ]
     },
     "execution_count": 307,
     "metadata": {},
     "output_type": "execute_result"
    }
   ],
   "source": [
    "#View data\n",
    "df.head()"
   ]
  },
  {
   "cell_type": "code",
   "execution_count": 308,
   "id": "0e27451d",
   "metadata": {},
   "outputs": [
    {
     "data": {
      "text/plain": [
       "Title          object\n",
       "Genre          object\n",
       "Premiere       object\n",
       "Runtime         int64\n",
       "IMDB Score    float64\n",
       "Language       object\n",
       "dtype: object"
      ]
     },
     "execution_count": 308,
     "metadata": {},
     "output_type": "execute_result"
    }
   ],
   "source": [
    "#Check data types\n",
    "df.dtypes"
   ]
  },
  {
   "cell_type": "code",
   "execution_count": 309,
   "id": "76cc4463",
   "metadata": {},
   "outputs": [
    {
     "data": {
      "text/html": [
       "<div>\n",
       "<style scoped>\n",
       "    .dataframe tbody tr th:only-of-type {\n",
       "        vertical-align: middle;\n",
       "    }\n",
       "\n",
       "    .dataframe tbody tr th {\n",
       "        vertical-align: top;\n",
       "    }\n",
       "\n",
       "    .dataframe thead th {\n",
       "        text-align: right;\n",
       "    }\n",
       "</style>\n",
       "<table border=\"1\" class=\"dataframe\">\n",
       "  <thead>\n",
       "    <tr style=\"text-align: right;\">\n",
       "      <th></th>\n",
       "      <th>Runtime</th>\n",
       "      <th>IMDB Score</th>\n",
       "    </tr>\n",
       "  </thead>\n",
       "  <tbody>\n",
       "    <tr>\n",
       "      <th>count</th>\n",
       "      <td>584.000000</td>\n",
       "      <td>584.000000</td>\n",
       "    </tr>\n",
       "    <tr>\n",
       "      <th>mean</th>\n",
       "      <td>93.577055</td>\n",
       "      <td>6.271747</td>\n",
       "    </tr>\n",
       "    <tr>\n",
       "      <th>std</th>\n",
       "      <td>27.761683</td>\n",
       "      <td>0.979256</td>\n",
       "    </tr>\n",
       "    <tr>\n",
       "      <th>min</th>\n",
       "      <td>4.000000</td>\n",
       "      <td>2.500000</td>\n",
       "    </tr>\n",
       "    <tr>\n",
       "      <th>25%</th>\n",
       "      <td>86.000000</td>\n",
       "      <td>5.700000</td>\n",
       "    </tr>\n",
       "    <tr>\n",
       "      <th>50%</th>\n",
       "      <td>97.000000</td>\n",
       "      <td>6.350000</td>\n",
       "    </tr>\n",
       "    <tr>\n",
       "      <th>75%</th>\n",
       "      <td>108.000000</td>\n",
       "      <td>7.000000</td>\n",
       "    </tr>\n",
       "    <tr>\n",
       "      <th>max</th>\n",
       "      <td>209.000000</td>\n",
       "      <td>9.000000</td>\n",
       "    </tr>\n",
       "  </tbody>\n",
       "</table>\n",
       "</div>"
      ],
      "text/plain": [
       "          Runtime  IMDB Score\n",
       "count  584.000000  584.000000\n",
       "mean    93.577055    6.271747\n",
       "std     27.761683    0.979256\n",
       "min      4.000000    2.500000\n",
       "25%     86.000000    5.700000\n",
       "50%     97.000000    6.350000\n",
       "75%    108.000000    7.000000\n",
       "max    209.000000    9.000000"
      ]
     },
     "execution_count": 309,
     "metadata": {},
     "output_type": "execute_result"
    }
   ],
   "source": [
    "#Describe data\n",
    "df.describe()"
   ]
  },
  {
   "cell_type": "code",
   "execution_count": 310,
   "id": "f82943ca",
   "metadata": {},
   "outputs": [
    {
     "data": {
      "text/plain": [
       "(584, 6)"
      ]
     },
     "execution_count": 310,
     "metadata": {},
     "output_type": "execute_result"
    }
   ],
   "source": [
    "#View dataset shape\n",
    "df.shape"
   ]
  },
  {
   "cell_type": "code",
   "execution_count": 311,
   "id": "5600f939",
   "metadata": {},
   "outputs": [
    {
     "data": {
      "text/html": [
       "<div>\n",
       "<style scoped>\n",
       "    .dataframe tbody tr th:only-of-type {\n",
       "        vertical-align: middle;\n",
       "    }\n",
       "\n",
       "    .dataframe tbody tr th {\n",
       "        vertical-align: top;\n",
       "    }\n",
       "\n",
       "    .dataframe thead th {\n",
       "        text-align: right;\n",
       "    }\n",
       "</style>\n",
       "<table border=\"1\" class=\"dataframe\">\n",
       "  <thead>\n",
       "    <tr style=\"text-align: right;\">\n",
       "      <th></th>\n",
       "      <th>Title</th>\n",
       "      <th>Genre</th>\n",
       "      <th>Premiere</th>\n",
       "      <th>Runtime</th>\n",
       "      <th>IMDB Score</th>\n",
       "      <th>Language</th>\n",
       "    </tr>\n",
       "  </thead>\n",
       "  <tbody>\n",
       "    <tr>\n",
       "      <th>0</th>\n",
       "      <td>Enter the Anime</td>\n",
       "      <td>Documentary</td>\n",
       "      <td>August 5, 2019</td>\n",
       "      <td>58</td>\n",
       "      <td>2.5</td>\n",
       "      <td>English/Japanese</td>\n",
       "    </tr>\n",
       "    <tr>\n",
       "      <th>1</th>\n",
       "      <td>Dark Forces</td>\n",
       "      <td>Thriller</td>\n",
       "      <td>August 21, 2020</td>\n",
       "      <td>81</td>\n",
       "      <td>2.6</td>\n",
       "      <td>Spanish</td>\n",
       "    </tr>\n",
       "    <tr>\n",
       "      <th>2</th>\n",
       "      <td>The App</td>\n",
       "      <td>Science fiction/Drama</td>\n",
       "      <td>December 26, 2019</td>\n",
       "      <td>79</td>\n",
       "      <td>2.6</td>\n",
       "      <td>Italian</td>\n",
       "    </tr>\n",
       "    <tr>\n",
       "      <th>3</th>\n",
       "      <td>The Open House</td>\n",
       "      <td>Horror thriller</td>\n",
       "      <td>January 19, 2018</td>\n",
       "      <td>94</td>\n",
       "      <td>3.2</td>\n",
       "      <td>English</td>\n",
       "    </tr>\n",
       "    <tr>\n",
       "      <th>4</th>\n",
       "      <td>Kaali Khuhi</td>\n",
       "      <td>Mystery</td>\n",
       "      <td>October 30, 2020</td>\n",
       "      <td>90</td>\n",
       "      <td>3.4</td>\n",
       "      <td>Hindi</td>\n",
       "    </tr>\n",
       "    <tr>\n",
       "      <th>...</th>\n",
       "      <td>...</td>\n",
       "      <td>...</td>\n",
       "      <td>...</td>\n",
       "      <td>...</td>\n",
       "      <td>...</td>\n",
       "      <td>...</td>\n",
       "    </tr>\n",
       "    <tr>\n",
       "      <th>579</th>\n",
       "      <td>Taylor Swift: Reputation Stadium Tour</td>\n",
       "      <td>Concert Film</td>\n",
       "      <td>December 31, 2018</td>\n",
       "      <td>125</td>\n",
       "      <td>8.4</td>\n",
       "      <td>English</td>\n",
       "    </tr>\n",
       "    <tr>\n",
       "      <th>580</th>\n",
       "      <td>Winter on Fire: Ukraine's Fight for Freedom</td>\n",
       "      <td>Documentary</td>\n",
       "      <td>October 9, 2015</td>\n",
       "      <td>91</td>\n",
       "      <td>8.4</td>\n",
       "      <td>English/Ukranian/Russian</td>\n",
       "    </tr>\n",
       "    <tr>\n",
       "      <th>581</th>\n",
       "      <td>Springsteen on Broadway</td>\n",
       "      <td>One-man show</td>\n",
       "      <td>December 16, 2018</td>\n",
       "      <td>153</td>\n",
       "      <td>8.5</td>\n",
       "      <td>English</td>\n",
       "    </tr>\n",
       "    <tr>\n",
       "      <th>582</th>\n",
       "      <td>Emicida: AmarElo - It's All For Yesterday</td>\n",
       "      <td>Documentary</td>\n",
       "      <td>December 8, 2020</td>\n",
       "      <td>89</td>\n",
       "      <td>8.6</td>\n",
       "      <td>Portuguese</td>\n",
       "    </tr>\n",
       "    <tr>\n",
       "      <th>583</th>\n",
       "      <td>David Attenborough: A Life on Our Planet</td>\n",
       "      <td>Documentary</td>\n",
       "      <td>October 4, 2020</td>\n",
       "      <td>83</td>\n",
       "      <td>9.0</td>\n",
       "      <td>English</td>\n",
       "    </tr>\n",
       "  </tbody>\n",
       "</table>\n",
       "<p>584 rows × 6 columns</p>\n",
       "</div>"
      ],
      "text/plain": [
       "                                           Title                  Genre  \\\n",
       "0                                Enter the Anime            Documentary   \n",
       "1                                    Dark Forces               Thriller   \n",
       "2                                        The App  Science fiction/Drama   \n",
       "3                                 The Open House        Horror thriller   \n",
       "4                                    Kaali Khuhi                Mystery   \n",
       "..                                           ...                    ...   \n",
       "579        Taylor Swift: Reputation Stadium Tour           Concert Film   \n",
       "580  Winter on Fire: Ukraine's Fight for Freedom            Documentary   \n",
       "581                      Springsteen on Broadway           One-man show   \n",
       "582    Emicida: AmarElo - It's All For Yesterday            Documentary   \n",
       "583     David Attenborough: A Life on Our Planet            Documentary   \n",
       "\n",
       "              Premiere  Runtime  IMDB Score                  Language  \n",
       "0       August 5, 2019       58         2.5          English/Japanese  \n",
       "1      August 21, 2020       81         2.6                   Spanish  \n",
       "2    December 26, 2019       79         2.6                   Italian  \n",
       "3     January 19, 2018       94         3.2                   English  \n",
       "4     October 30, 2020       90         3.4                     Hindi  \n",
       "..                 ...      ...         ...                       ...  \n",
       "579  December 31, 2018      125         8.4                   English  \n",
       "580    October 9, 2015       91         8.4  English/Ukranian/Russian  \n",
       "581  December 16, 2018      153         8.5                   English  \n",
       "582   December 8, 2020       89         8.6                Portuguese  \n",
       "583    October 4, 2020       83         9.0                   English  \n",
       "\n",
       "[584 rows x 6 columns]"
      ]
     },
     "execution_count": 311,
     "metadata": {},
     "output_type": "execute_result"
    }
   ],
   "source": [
    "#Drop duplicates, if any\n",
    "df.drop_duplicates()"
   ]
  },
  {
   "cell_type": "code",
   "execution_count": 312,
   "id": "027c0d8f",
   "metadata": {},
   "outputs": [
    {
     "data": {
      "text/plain": [
       "Title         0\n",
       "Genre         0\n",
       "Premiere      0\n",
       "Runtime       0\n",
       "IMDB Score    0\n",
       "Language      0\n",
       "dtype: int64"
      ]
     },
     "execution_count": 312,
     "metadata": {},
     "output_type": "execute_result"
    }
   ],
   "source": [
    "#Check to see if there's any null values\n",
    "df.isna().sum()"
   ]
  },
  {
   "cell_type": "code",
   "execution_count": 313,
   "id": "b944df06",
   "metadata": {},
   "outputs": [
    {
     "data": {
      "text/plain": [
       "584"
      ]
     },
     "execution_count": 313,
     "metadata": {},
     "output_type": "execute_result"
    }
   ],
   "source": [
    "#Check number of genres\n",
    "df[\"Genre\"].count()"
   ]
  },
  {
   "cell_type": "code",
   "execution_count": 314,
   "id": "691d274b",
   "metadata": {},
   "outputs": [
    {
     "data": {
      "text/plain": [
       "Documentary        159\n",
       "Drama               77\n",
       "Comedy              49\n",
       "Romantic comedy     39\n",
       "Thriller            33\n",
       "Name: Genre, dtype: int64"
      ]
     },
     "execution_count": 314,
     "metadata": {},
     "output_type": "execute_result"
    }
   ],
   "source": [
    "#What are the top 5 genres in the dataset, based on occurrence?\n",
    "df.Genre.value_counts().nlargest(5)"
   ]
  },
  {
   "cell_type": "code",
   "execution_count": 315,
   "id": "f5bf4cfa",
   "metadata": {},
   "outputs": [
    {
     "data": {
      "image/png": "[encoded data removed]",
      "text/plain": [
       "<Figure size 1202.75x360 with 1 Axes>"
      ]
     },
     "metadata": {
      "needs_background": "light"
     },
     "output_type": "display_data"
    }
   ],
   "source": [
    "#Visualize the average IMDB score for documentaries premiered in 2019\n",
    "df[\"Premiere\"]=df[\"Premiere\"].astype(\"string\")\n",
    "documentary_2019=df[((df[\"Genre\"]==\"Documentary\")&(df[\"Premiere\"].str.contains(\"2019\")))]\n",
    "sns.catplot(x=\"Title\",y=\"Runtime\",data=documentary_2019,height=5,aspect=3,hue=\"Language\",kind=\"bar\",dodge=False) \n",
    "plt.xticks(rotation=90)\n",
    "plt.show()"
   ]
  },
  {
   "cell_type": "code",
   "execution_count": 316,
   "id": "baeabae4",
   "metadata": {},
   "outputs": [
    {
     "name": "stdout",
     "output_type": "stream",
     "text": [
      "Population Parameter: 93.57705479452055\n",
      "Sample Statisctic: 89.06\n",
      "Relative Error (%): 4.827096561693717\n"
     ]
    },
    {
     "data": {
      "image/png": "[encoded data removed]",
      "text/plain": [
       "<Figure size 432x288 with 1 Axes>"
      ]
     },
     "metadata": {
      "needs_background": "light"
     },
     "output_type": "display_data"
    }
   ],
   "source": [
    "##Simple Random Sampling\n",
    "#Calculate population parameter\n",
    "pop_param=df[\"Runtime\"].mean()\n",
    "print(f\"Population Parameter: {pop_param}\")\n",
    "#Calculate sample statistic\n",
    "point_estimate=df.sample(n=100,random_state=2001)[\"Runtime\"].mean()\n",
    "print(f\"Sample Statisctic: {point_estimate}\")\n",
    "#Calculate relative error as a percentage\n",
    "rel_error_pct=100*abs(pop_param-point_estimate)/pop_param\n",
    "print(f\"Relative Error (%): {rel_error_pct}\")\n",
    "#Create a sampling distribution\n",
    "mean_runtime=[]\n",
    "for i in range(1000):\n",
    "    mean_runtime.append(df.sample(n=100)[\"Runtime\"].mean())\n",
    "plt.hist(mean_runtime,bins=15,color=\"pink\")\n",
    "plt.ylabel(\"Runtime\")\n",
    "plt.title(\"Sampling Distribution of Netflix Film Runtimes\")\n",
    "plt.show()"
   ]
  },
  {
   "cell_type": "code",
   "execution_count": 317,
   "id": "0883757e",
   "metadata": {},
   "outputs": [
    {
     "name": "stdout",
     "output_type": "stream",
     "text": [
      "                                 Title            Genre  Runtime\n",
      "6                    Leyla Everlasting           Comedy      112\n",
      "9                   Sardar Ka Grandson           Comedy      139\n",
      "12                             Whipped  Romantic comedy       97\n",
      "18           What Happened to Mr. Cha?           Comedy      102\n",
      "22                          Sextuplets           Comedy       99\n",
      "..                                 ...              ...      ...\n",
      "399                      Death to 2020           Comedy       70\n",
      "447                        Rose Island           Comedy      117\n",
      "478  To All the Boys I've Loved Before  Romantic comedy       99\n",
      "486               Love per Square Foot  Romantic comedy      133\n",
      "492            The 40-Year-Old Version           Comedy      124\n",
      "\n",
      "[88 rows x 3 columns]\n"
     ]
    },
    {
     "data": {
      "image/png": "[encoded data removed]",
      "text/plain": [
       "<Figure size 432x288 with 1 Axes>"
      ]
     },
     "metadata": {
      "needs_background": "light"
     },
     "output_type": "display_data"
    }
   ],
   "source": [
    "#Was average runtime greater for comedies or romantic comedies?\n",
    "com_romcom=df[df[\"Genre\"].isin([\"Comedy\",\"Romantic comedy\"])][[\"Title\",\"Genre\",\"Runtime\"]]\n",
    "print(com_romcom)\n",
    "ax=sns.barplot(x=\"Runtime\",y=\"Genre\",data=com_romcom,hue=\"Genre\")\n",
    "ax.bar_label(ax.containers[0], label_type='edge',padding=20)\n",
    "ax.bar_label(ax.containers[1], label_type='edge',padding=20)\n",
    "plt.legend(loc=\"right\")\n",
    "plt.show()"
   ]
  },
  {
   "cell_type": "code",
   "execution_count": 318,
   "id": "8a52ba16",
   "metadata": {},
   "outputs": [
    {
     "data": {
      "text/html": [
       "<div>\n",
       "<style scoped>\n",
       "    .dataframe tbody tr th:only-of-type {\n",
       "        vertical-align: middle;\n",
       "    }\n",
       "\n",
       "    .dataframe tbody tr th {\n",
       "        vertical-align: top;\n",
       "    }\n",
       "\n",
       "    .dataframe thead th {\n",
       "        text-align: right;\n",
       "    }\n",
       "</style>\n",
       "<table border=\"1\" class=\"dataframe\">\n",
       "  <thead>\n",
       "    <tr style=\"text-align: right;\">\n",
       "      <th></th>\n",
       "      <th>Title</th>\n",
       "      <th>Genre</th>\n",
       "      <th>Premiere</th>\n",
       "      <th>Runtime</th>\n",
       "      <th>IMDB Score</th>\n",
       "      <th>Language</th>\n",
       "    </tr>\n",
       "  </thead>\n",
       "  <tbody>\n",
       "    <tr>\n",
       "      <th>583</th>\n",
       "      <td>David Attenborough: A Life on Our Planet</td>\n",
       "      <td>Documentary</td>\n",
       "      <td>October 4, 2020</td>\n",
       "      <td>83</td>\n",
       "      <td>9.0</td>\n",
       "      <td>English</td>\n",
       "    </tr>\n",
       "    <tr>\n",
       "      <th>581</th>\n",
       "      <td>Springsteen on Broadway</td>\n",
       "      <td>One-man show</td>\n",
       "      <td>December 16, 2018</td>\n",
       "      <td>153</td>\n",
       "      <td>8.5</td>\n",
       "      <td>English</td>\n",
       "    </tr>\n",
       "    <tr>\n",
       "      <th>578</th>\n",
       "      <td>Ben Platt: Live from Radio City Music Hall</td>\n",
       "      <td>Concert Film</td>\n",
       "      <td>May 20, 2020</td>\n",
       "      <td>85</td>\n",
       "      <td>8.4</td>\n",
       "      <td>English</td>\n",
       "    </tr>\n",
       "    <tr>\n",
       "      <th>579</th>\n",
       "      <td>Taylor Swift: Reputation Stadium Tour</td>\n",
       "      <td>Concert Film</td>\n",
       "      <td>December 31, 2018</td>\n",
       "      <td>125</td>\n",
       "      <td>8.4</td>\n",
       "      <td>English</td>\n",
       "    </tr>\n",
       "    <tr>\n",
       "      <th>576</th>\n",
       "      <td>Cuba and the Cameraman</td>\n",
       "      <td>Documentary</td>\n",
       "      <td>November 24, 2017</td>\n",
       "      <td>114</td>\n",
       "      <td>8.3</td>\n",
       "      <td>English</td>\n",
       "    </tr>\n",
       "    <tr>\n",
       "      <th>577</th>\n",
       "      <td>Dancing with the Birds</td>\n",
       "      <td>Documentary</td>\n",
       "      <td>October 23, 2019</td>\n",
       "      <td>51</td>\n",
       "      <td>8.3</td>\n",
       "      <td>English</td>\n",
       "    </tr>\n",
       "    <tr>\n",
       "      <th>571</th>\n",
       "      <td>13th</td>\n",
       "      <td>Documentary</td>\n",
       "      <td>October 7, 2016</td>\n",
       "      <td>100</td>\n",
       "      <td>8.2</td>\n",
       "      <td>English</td>\n",
       "    </tr>\n",
       "    <tr>\n",
       "      <th>572</th>\n",
       "      <td>Disclosure: Trans Lives on Screen</td>\n",
       "      <td>Documentary</td>\n",
       "      <td>June 19, 2020</td>\n",
       "      <td>107</td>\n",
       "      <td>8.2</td>\n",
       "      <td>English</td>\n",
       "    </tr>\n",
       "    <tr>\n",
       "      <th>573</th>\n",
       "      <td>Klaus</td>\n",
       "      <td>Animation/Christmas/Comedy/Adventure</td>\n",
       "      <td>November 15, 2019</td>\n",
       "      <td>97</td>\n",
       "      <td>8.2</td>\n",
       "      <td>English</td>\n",
       "    </tr>\n",
       "    <tr>\n",
       "      <th>574</th>\n",
       "      <td>Seaspiracy</td>\n",
       "      <td>Documentary</td>\n",
       "      <td>March 24, 2021</td>\n",
       "      <td>89</td>\n",
       "      <td>8.2</td>\n",
       "      <td>English</td>\n",
       "    </tr>\n",
       "  </tbody>\n",
       "</table>\n",
       "</div>"
      ],
      "text/plain": [
       "                                          Title  \\\n",
       "583    David Attenborough: A Life on Our Planet   \n",
       "581                     Springsteen on Broadway   \n",
       "578  Ben Platt: Live from Radio City Music Hall   \n",
       "579       Taylor Swift: Reputation Stadium Tour   \n",
       "576                     Cuba and the Cameraman    \n",
       "577                      Dancing with the Birds   \n",
       "571                                        13th   \n",
       "572           Disclosure: Trans Lives on Screen   \n",
       "573                                       Klaus   \n",
       "574                                  Seaspiracy   \n",
       "\n",
       "                                    Genre           Premiere  Runtime  \\\n",
       "583                           Documentary    October 4, 2020       83   \n",
       "581                          One-man show  December 16, 2018      153   \n",
       "578                          Concert Film       May 20, 2020       85   \n",
       "579                          Concert Film  December 31, 2018      125   \n",
       "576                           Documentary  November 24, 2017      114   \n",
       "577                           Documentary   October 23, 2019       51   \n",
       "571                           Documentary    October 7, 2016      100   \n",
       "572                           Documentary      June 19, 2020      107   \n",
       "573  Animation/Christmas/Comedy/Adventure  November 15, 2019       97   \n",
       "574                           Documentary     March 24, 2021       89   \n",
       "\n",
       "     IMDB Score Language  \n",
       "583         9.0  English  \n",
       "581         8.5  English  \n",
       "578         8.4  English  \n",
       "579         8.4  English  \n",
       "576         8.3  English  \n",
       "577         8.3  English  \n",
       "571         8.2  English  \n",
       "572         8.2  English  \n",
       "573         8.2  English  \n",
       "574         8.2  English  "
      ]
     },
     "execution_count": 318,
     "metadata": {},
     "output_type": "execute_result"
    }
   ],
   "source": [
    "#What were the highest rated films in English?\n",
    "df.query('Language==\"English\"').nlargest(10,\"IMDB Score\")"
   ]
  },
  {
   "cell_type": "code",
   "execution_count": 319,
   "id": "bff3a496",
   "metadata": {},
   "outputs": [
    {
     "data": {
      "text/plain": [
       "Language\n",
       "Bengali                       7.1\n",
       "Dutch                         7.1\n",
       "English                       9.0\n",
       "English/Akan                  7.7\n",
       "English/Arabic                7.3\n",
       "English/Hindi                 7.4\n",
       "English/Japanese              6.3\n",
       "English/Korean                7.3\n",
       "English/Mandarin              7.3\n",
       "English/Russian               7.3\n",
       "English/Spanish               7.3\n",
       "English/Swedish               6.5\n",
       "English/Taiwanese/Mandarin    6.5\n",
       "English/Ukranian/Russian      8.4\n",
       "Filipino                      5.5\n",
       "French                        6.9\n",
       "Georgian                      6.8\n",
       "German                        6.4\n",
       "Hindi                         7.6\n",
       "Indonesian                    7.0\n",
       "Italian                       7.3\n",
       "Japanese                      6.7\n",
       "Khmer/English/French          7.2\n",
       "Korean                        7.5\n",
       "Malay                         4.2\n",
       "Marathi                       7.2\n",
       "Norwegian                     5.1\n",
       "Polish                        5.7\n",
       "Portuguese                    8.6\n",
       "Spanish                       8.2\n",
       "Spanish/Basque                5.6\n",
       "Spanish/Catalan               6.4\n",
       "Spanish/English               7.3\n",
       "Swedish                       5.5\n",
       "Tamil                         7.2\n",
       "Thai                          5.7\n",
       "Thia/English                  6.7\n",
       "Turkish                       6.7\n",
       "Name: IMDB Score, dtype: float64"
      ]
     },
     "execution_count": 319,
     "metadata": {},
     "output_type": "execute_result"
    }
   ],
   "source": [
    "#What was the highest rated film in each language?\n",
    "df.groupby(\"Language\")[\"IMDB Score\"].max()"
   ]
  },
  {
   "cell_type": "code",
   "execution_count": 320,
   "id": "a74f20d5",
   "metadata": {},
   "outputs": [
    {
     "data": {
      "text/plain": [
       "Title                 object\n",
       "Genre                 object\n",
       "Premiere      datetime64[ns]\n",
       "Runtime                int64\n",
       "IMDB Score           float64\n",
       "Language              object\n",
       "dtype: object"
      ]
     },
     "execution_count": 320,
     "metadata": {},
     "output_type": "execute_result"
    }
   ],
   "source": [
    "###What languages were the top rated films in 2020? (IMDB Score>8.0)\n",
    "#Change Premiere column data type to datetime\n",
    "df[\"Premiere\"]=pd.to_datetime(df[\"Premiere\"])\n",
    "#Check to see updated data types\n",
    "df.dtypes"
   ]
  },
  {
   "cell_type": "code",
   "execution_count": 321,
   "id": "6745e8c9",
   "metadata": {},
   "outputs": [
    {
     "data": {
      "text/html": [
       "<div>\n",
       "<style scoped>\n",
       "    .dataframe tbody tr th:only-of-type {\n",
       "        vertical-align: middle;\n",
       "    }\n",
       "\n",
       "    .dataframe tbody tr th {\n",
       "        vertical-align: top;\n",
       "    }\n",
       "\n",
       "    .dataframe thead th {\n",
       "        text-align: right;\n",
       "    }\n",
       "</style>\n",
       "<table border=\"1\" class=\"dataframe\">\n",
       "  <thead>\n",
       "    <tr style=\"text-align: right;\">\n",
       "      <th></th>\n",
       "      <th>Title</th>\n",
       "      <th>Genre</th>\n",
       "      <th>Premiere</th>\n",
       "      <th>Runtime</th>\n",
       "      <th>IMDB Score</th>\n",
       "      <th>Language</th>\n",
       "    </tr>\n",
       "  </thead>\n",
       "  <tbody>\n",
       "    <tr>\n",
       "      <th>569</th>\n",
       "      <td>My Octopus Teacher</td>\n",
       "      <td>Documentary</td>\n",
       "      <td>2020-09-07</td>\n",
       "      <td>85</td>\n",
       "      <td>8.1</td>\n",
       "      <td>English</td>\n",
       "    </tr>\n",
       "    <tr>\n",
       "      <th>570</th>\n",
       "      <td>Rising Phoenix</td>\n",
       "      <td>Documentary</td>\n",
       "      <td>2020-08-26</td>\n",
       "      <td>106</td>\n",
       "      <td>8.1</td>\n",
       "      <td>English</td>\n",
       "    </tr>\n",
       "    <tr>\n",
       "      <th>572</th>\n",
       "      <td>Disclosure: Trans Lives on Screen</td>\n",
       "      <td>Documentary</td>\n",
       "      <td>2020-06-19</td>\n",
       "      <td>107</td>\n",
       "      <td>8.2</td>\n",
       "      <td>English</td>\n",
       "    </tr>\n",
       "    <tr>\n",
       "      <th>575</th>\n",
       "      <td>The Three Deaths of Marisela Escobedo</td>\n",
       "      <td>Documentary</td>\n",
       "      <td>2020-10-14</td>\n",
       "      <td>109</td>\n",
       "      <td>8.2</td>\n",
       "      <td>Spanish</td>\n",
       "    </tr>\n",
       "    <tr>\n",
       "      <th>578</th>\n",
       "      <td>Ben Platt: Live from Radio City Music Hall</td>\n",
       "      <td>Concert Film</td>\n",
       "      <td>2020-05-20</td>\n",
       "      <td>85</td>\n",
       "      <td>8.4</td>\n",
       "      <td>English</td>\n",
       "    </tr>\n",
       "    <tr>\n",
       "      <th>582</th>\n",
       "      <td>Emicida: AmarElo - It's All For Yesterday</td>\n",
       "      <td>Documentary</td>\n",
       "      <td>2020-12-08</td>\n",
       "      <td>89</td>\n",
       "      <td>8.6</td>\n",
       "      <td>Portuguese</td>\n",
       "    </tr>\n",
       "    <tr>\n",
       "      <th>583</th>\n",
       "      <td>David Attenborough: A Life on Our Planet</td>\n",
       "      <td>Documentary</td>\n",
       "      <td>2020-10-04</td>\n",
       "      <td>83</td>\n",
       "      <td>9.0</td>\n",
       "      <td>English</td>\n",
       "    </tr>\n",
       "  </tbody>\n",
       "</table>\n",
       "</div>"
      ],
      "text/plain": [
       "                                          Title         Genre   Premiere  \\\n",
       "569                          My Octopus Teacher   Documentary 2020-09-07   \n",
       "570                              Rising Phoenix   Documentary 2020-08-26   \n",
       "572           Disclosure: Trans Lives on Screen   Documentary 2020-06-19   \n",
       "575       The Three Deaths of Marisela Escobedo   Documentary 2020-10-14   \n",
       "578  Ben Platt: Live from Radio City Music Hall  Concert Film 2020-05-20   \n",
       "582   Emicida: AmarElo - It's All For Yesterday   Documentary 2020-12-08   \n",
       "583    David Attenborough: A Life on Our Planet   Documentary 2020-10-04   \n",
       "\n",
       "     Runtime  IMDB Score    Language  \n",
       "569       85         8.1     English  \n",
       "570      106         8.1     English  \n",
       "572      107         8.2     English  \n",
       "575      109         8.2     Spanish  \n",
       "578       85         8.4     English  \n",
       "582       89         8.6  Portuguese  \n",
       "583       83         9.0     English  "
      ]
     },
     "execution_count": 321,
     "metadata": {},
     "output_type": "execute_result"
    }
   ],
   "source": [
    "df[((df.Premiere.dt.year==2020)&(df[\"IMDB Score\"]>8))]\n"
   ]
  },
  {
   "cell_type": "code",
   "execution_count": 332,
   "id": "0956a2f7",
   "metadata": {},
   "outputs": [
    {
     "data": {
      "image/png": "[encoded data removed]",
      "text/plain": [
       "<Figure size 432x288 with 1 Axes>"
      ]
     },
     "metadata": {
      "needs_background": "light"
     },
     "output_type": "display_data"
    }
   ],
   "source": [
    "###What month had the most movie releases?\n",
    "ax=sns.countplot(x=df.Premiere.dt.month,data=df,color=\"skyblue\")\n",
    "ax.set_xticklabels([\"January\",\"February\",\"March\",\"April\",\"May\",\"June\",\"July\",\"August\",\"September\",\"October\",\n",
    "                   \"November\",\"December\"])\n",
    "ax.tick_params(\"x\",rotation=90)\n",
    "\n",
    "plt.show()\n"
   ]
  },
  {
   "cell_type": "code",
   "execution_count": 323,
   "id": "d5b643e9",
   "metadata": {},
   "outputs": [
    {
     "data": {
      "image/png": "[encoded data removed]",
      "text/plain": [
       "<Figure size 1152x288 with 1 Axes>"
      ]
     },
     "metadata": {
      "needs_background": "light"
     },
     "output_type": "display_data"
    }
   ],
   "source": [
    "###Visualize movie release date and IMDB Scores \n",
    "#Create month/year column\n",
    "df[\"Premiere Month/Year\"]=df.Premiere.map(lambda x:x.strftime(\"%m/%Y\"))\n",
    "#Average IMDB  Score for each month\n",
    "sns.relplot(x=\"Premiere Month/Year\",y=\"IMDB Score\",data=df,kind=\"line\",height=4,aspect=4,ci=None)\n",
    "plt.xticks(rotation=90)\n",
    "plt.show()"
   ]
  },
  {
   "cell_type": "code",
   "execution_count": 288,
   "id": "afc1cc1f",
   "metadata": {},
   "outputs": [
    {
     "data": {
      "text/plain": [
       "Genre\n",
       "Anthology/Dark comedy    149.0\n",
       "Heist film/Thriller      149.0\n",
       "Zombie/Heist             148.0\n",
       "War drama                145.5\n",
       "Horror anthology         144.0\n",
       "Name: Runtime, dtype: float64"
      ]
     },
     "execution_count": 288,
     "metadata": {},
     "output_type": "execute_result"
    }
   ],
   "source": [
    "#What's the average runtime for each of the top 5 genres?\n",
    "df.groupby(\"Genre\")[\"Runtime\"].mean().nlargest(5)"
   ]
  },
  {
   "cell_type": "code",
   "execution_count": 289,
   "id": "f54206f0",
   "metadata": {},
   "outputs": [
    {
     "data": {
      "image/png": "[encoded data removed]",
      "text/plain": [
       "<Figure size 432x288 with 1 Axes>"
      ]
     },
     "metadata": {
      "needs_background": "light"
     },
     "output_type": "display_data"
    }
   ],
   "source": [
    "#Is there any association between runtime and IMDB Score?\n",
    "sns.scatterplot(x=\"Runtime\",y=\"IMDB Score\",data=df)\n",
    "plt.show()"
   ]
  },
  {
   "cell_type": "code",
   "execution_count": 290,
   "id": "c56e08c9",
   "metadata": {},
   "outputs": [
    {
     "data": {
      "text/plain": [
       "40       4\n",
       "417      7\n",
       "325      9\n",
       "66      10\n",
       "498     11\n",
       "      ... \n",
       "247    151\n",
       "284    151\n",
       "581    153\n",
       "328    155\n",
       "561    209\n",
       "Name: Runtime, Length: 584, dtype: int64"
      ]
     },
     "execution_count": 290,
     "metadata": {},
     "output_type": "execute_result"
    }
   ],
   "source": [
    "df[\"Runtime\"].sort_values()"
   ]
  },
  {
   "cell_type": "code",
   "execution_count": 333,
   "id": "9032390d",
   "metadata": {},
   "outputs": [
    {
     "data": {
      "image/png": "[encoded data removed]",
      "text/plain": [
       "<Figure size 432x288 with 1 Axes>"
      ]
     },
     "metadata": {
      "needs_background": "light"
     },
     "output_type": "display_data"
    }
   ],
   "source": [
    "#Which year had the most movie releases?\n",
    "sns.countplot(x=df.Premiere.dt.year,data=df,color=\"purple\")\n",
    "plt.show()"
   ]
  },
  {
   "cell_type": "code",
   "execution_count": 302,
   "id": "bfe7bb00",
   "metadata": {},
   "outputs": [
    {
     "name": "stdout",
     "output_type": "stream",
     "text": [
      "Average runtime of movies premiered before March 2020: 91.35672514619883\n",
      "Average runtime of movies premiered after March 2020: 96.71487603305785\n"
     ]
    }
   ],
   "source": [
    "###The COVID-19 Pandemic restrictions and lockdowns officially began in March 2020 in the U.S. Were movies that\n",
    "###premiered in after this date longer than the movies that premiered prior to the pandemic?\n",
    "#Average movie runtime for movies that premiered prior to March 2020\n",
    "after_03_20=df[df[\"Premiere\"]>=\"2020-03\"][\"Runtime\"].mean()\n",
    "before_03_20=df[df[\"Premiere\"]<\"2020-03\"][\"Runtime\"].mean()\n",
    "print(f\"Average runtime of movies premiered before March 2020: {before_03_20}\")\n",
    "print(f\"Average runtime of movies premiered after March 2020: {after_03_20}\")"
   ]
  },
  {
   "cell_type": "code",
   "execution_count": 291,
   "id": "b5b83651",
   "metadata": {},
   "outputs": [],
   "source": [
    "#Hypothesis Testing\n",
    "###Is mean IMDB Score different for different runtimes?\n",
    "#H0: The average IMDB score is the same across all runtimes\n",
    "#HA: The average IMDB score is higher for movies that run longer"
   ]
  },
  {
   "cell_type": "code",
   "execution_count": 292,
   "id": "90cd43ab",
   "metadata": {},
   "outputs": [
    {
     "name": "stdout",
     "output_type": "stream",
     "text": [
      "             Title                  Genre   Premiere  Runtime  IMDB Score  \\\n",
      "0  Enter the Anime            Documentary 2019-08-05       58         2.5   \n",
      "1      Dark Forces               Thriller 2020-08-21       81         2.6   \n",
      "2          The App  Science fiction/Drama 2019-12-26       79         2.6   \n",
      "3   The Open House        Horror thriller 2018-01-19       94         3.2   \n",
      "4      Kaali Khuhi                Mystery 2020-10-30       90         3.4   \n",
      "\n",
      "           Language Premiere Month/Year Runtime Category  \n",
      "0  English/Japanese             08/2019       Very Short  \n",
      "1           Spanish             08/2020       Very Short  \n",
      "2           Italian             12/2019       Very Short  \n",
      "3           English             01/2018            Short  \n",
      "4             Hindi             10/2020            Short  \n"
     ]
    }
   ],
   "source": [
    "#Create new categories of runtime\n",
    "twenty_fifth=df[\"Runtime\"].quantile(0.25)\n",
    "median=df[\"Runtime\"].quantile(0.5)\n",
    "seventy_fifth=df[\"Runtime\"].quantile(0.75)\n",
    "maximum=df[\"Runtime\"].max()\n",
    "labels=[\"Very Short\",\"Short\",\"Average\",\"Long\"]\n",
    "bins=[0,twenty_fifth,median,seventy_fifth,maximum]\n",
    "df[\"Runtime Category\"]=pd.cut(df[\"Runtime\"],labels=labels,bins=bins)\n",
    "print(df.head())"
   ]
  },
  {
   "cell_type": "code",
   "execution_count": 293,
   "id": "77ae6625",
   "metadata": {},
   "outputs": [
    {
     "data": {
      "text/plain": [
       "Very Short    152\n",
       "Short         150\n",
       "Average       146\n",
       "Long          136\n",
       "Name: Runtime Category, dtype: int64"
      ]
     },
     "execution_count": 293,
     "metadata": {},
     "output_type": "execute_result"
    }
   ],
   "source": [
    "#Find proportion of each runtime category\n",
    "df[\"Runtime Category\"].value_counts()"
   ]
  },
  {
   "cell_type": "code",
   "execution_count": 294,
   "id": "ea44f0de",
   "metadata": {},
   "outputs": [
    {
     "data": {
      "image/png": "[encoded data removed]",
      "text/plain": [
       "<Figure size 432x288 with 1 Axes>"
      ]
     },
     "metadata": {
      "needs_background": "light"
     },
     "output_type": "display_data"
    }
   ],
   "source": [
    "sns.boxplot(x=\"Runtime Category\",y=\"IMDB Score\",data=df)\n",
    "plt.show()"
   ]
  },
  {
   "cell_type": "code",
   "execution_count": 295,
   "id": "9f942dab",
   "metadata": {},
   "outputs": [
    {
     "data": {
      "text/html": [
       "<div>\n",
       "<style scoped>\n",
       "    .dataframe tbody tr th:only-of-type {\n",
       "        vertical-align: middle;\n",
       "    }\n",
       "\n",
       "    .dataframe tbody tr th {\n",
       "        vertical-align: top;\n",
       "    }\n",
       "\n",
       "    .dataframe thead th {\n",
       "        text-align: right;\n",
       "    }\n",
       "</style>\n",
       "<table border=\"1\" class=\"dataframe\">\n",
       "  <thead>\n",
       "    <tr style=\"text-align: right;\">\n",
       "      <th></th>\n",
       "      <th>Source</th>\n",
       "      <th>ddof1</th>\n",
       "      <th>ddof2</th>\n",
       "      <th>F</th>\n",
       "      <th>p-unc</th>\n",
       "      <th>np2</th>\n",
       "    </tr>\n",
       "  </thead>\n",
       "  <tbody>\n",
       "    <tr>\n",
       "      <th>0</th>\n",
       "      <td>Runtime Category</td>\n",
       "      <td>3</td>\n",
       "      <td>580</td>\n",
       "      <td>3.950041</td>\n",
       "      <td>0.008326</td>\n",
       "      <td>0.020022</td>\n",
       "    </tr>\n",
       "  </tbody>\n",
       "</table>\n",
       "</div>"
      ],
      "text/plain": [
       "             Source  ddof1  ddof2         F     p-unc       np2\n",
       "0  Runtime Category      3    580  3.950041  0.008326  0.020022"
      ]
     },
     "execution_count": 295,
     "metadata": {},
     "output_type": "execute_result"
    }
   ],
   "source": [
    "#Conduct ANOVA test to determine whether there are differences in scores between runtime categories\n",
    "#set significance level to 0.05\n",
    "alpha=0.05\n",
    "pingouin.anova(data=df,dv=\"IMDB Score\",between=\"Runtime Category\")\n"
   ]
  },
  {
   "cell_type": "code",
   "execution_count": 298,
   "id": "e1b0e92d",
   "metadata": {},
   "outputs": [
    {
     "data": {
      "text/html": [
       "<div>\n",
       "<style scoped>\n",
       "    .dataframe tbody tr th:only-of-type {\n",
       "        vertical-align: middle;\n",
       "    }\n",
       "\n",
       "    .dataframe tbody tr th {\n",
       "        vertical-align: top;\n",
       "    }\n",
       "\n",
       "    .dataframe thead th {\n",
       "        text-align: right;\n",
       "    }\n",
       "</style>\n",
       "<table border=\"1\" class=\"dataframe\">\n",
       "  <thead>\n",
       "    <tr style=\"text-align: right;\">\n",
       "      <th></th>\n",
       "      <th>Contrast</th>\n",
       "      <th>A</th>\n",
       "      <th>B</th>\n",
       "      <th>Paired</th>\n",
       "      <th>Parametric</th>\n",
       "      <th>T</th>\n",
       "      <th>dof</th>\n",
       "      <th>alternative</th>\n",
       "      <th>p-unc</th>\n",
       "      <th>p-corr</th>\n",
       "      <th>p-adjust</th>\n",
       "      <th>BF10</th>\n",
       "      <th>hedges</th>\n",
       "    </tr>\n",
       "  </thead>\n",
       "  <tbody>\n",
       "    <tr>\n",
       "      <th>0</th>\n",
       "      <td>Runtime Category</td>\n",
       "      <td>Very Short</td>\n",
       "      <td>Short</td>\n",
       "      <td>False</td>\n",
       "      <td>True</td>\n",
       "      <td>2.610921</td>\n",
       "      <td>294.603448</td>\n",
       "      <td>two-sided</td>\n",
       "      <td>0.009492</td>\n",
       "      <td>0.056952</td>\n",
       "      <td>bonf</td>\n",
       "      <td>3.205</td>\n",
       "      <td>0.299442</td>\n",
       "    </tr>\n",
       "    <tr>\n",
       "      <th>1</th>\n",
       "      <td>Runtime Category</td>\n",
       "      <td>Very Short</td>\n",
       "      <td>Average</td>\n",
       "      <td>False</td>\n",
       "      <td>True</td>\n",
       "      <td>2.092203</td>\n",
       "      <td>287.181085</td>\n",
       "      <td>two-sided</td>\n",
       "      <td>0.037298</td>\n",
       "      <td>0.223789</td>\n",
       "      <td>bonf</td>\n",
       "      <td>1.02</td>\n",
       "      <td>0.240784</td>\n",
       "    </tr>\n",
       "    <tr>\n",
       "      <th>2</th>\n",
       "      <td>Runtime Category</td>\n",
       "      <td>Very Short</td>\n",
       "      <td>Long</td>\n",
       "      <td>False</td>\n",
       "      <td>True</td>\n",
       "      <td>-0.026377</td>\n",
       "      <td>285.953839</td>\n",
       "      <td>two-sided</td>\n",
       "      <td>0.978975</td>\n",
       "      <td>1.000000</td>\n",
       "      <td>bonf</td>\n",
       "      <td>0.13</td>\n",
       "      <td>-0.003088</td>\n",
       "    </tr>\n",
       "    <tr>\n",
       "      <th>3</th>\n",
       "      <td>Runtime Category</td>\n",
       "      <td>Short</td>\n",
       "      <td>Average</td>\n",
       "      <td>False</td>\n",
       "      <td>True</td>\n",
       "      <td>-0.627665</td>\n",
       "      <td>293.497202</td>\n",
       "      <td>two-sided</td>\n",
       "      <td>0.530711</td>\n",
       "      <td>1.000000</td>\n",
       "      <td>bonf</td>\n",
       "      <td>0.154</td>\n",
       "      <td>-0.072717</td>\n",
       "    </tr>\n",
       "    <tr>\n",
       "      <th>4</th>\n",
       "      <td>Runtime Category</td>\n",
       "      <td>Short</td>\n",
       "      <td>Long</td>\n",
       "      <td>False</td>\n",
       "      <td>True</td>\n",
       "      <td>-2.703299</td>\n",
       "      <td>277.845104</td>\n",
       "      <td>two-sided</td>\n",
       "      <td>0.007289</td>\n",
       "      <td>0.043732</td>\n",
       "      <td>bonf</td>\n",
       "      <td>4.107</td>\n",
       "      <td>-0.320032</td>\n",
       "    </tr>\n",
       "    <tr>\n",
       "      <th>5</th>\n",
       "      <td>Runtime Category</td>\n",
       "      <td>Average</td>\n",
       "      <td>Long</td>\n",
       "      <td>False</td>\n",
       "      <td>True</td>\n",
       "      <td>-2.175033</td>\n",
       "      <td>270.308763</td>\n",
       "      <td>two-sided</td>\n",
       "      <td>0.030495</td>\n",
       "      <td>0.182967</td>\n",
       "      <td>bonf</td>\n",
       "      <td>1.231</td>\n",
       "      <td>-0.259605</td>\n",
       "    </tr>\n",
       "  </tbody>\n",
       "</table>\n",
       "</div>"
      ],
      "text/plain": [
       "           Contrast           A        B  Paired  Parametric         T  \\\n",
       "0  Runtime Category  Very Short    Short   False        True  2.610921   \n",
       "1  Runtime Category  Very Short  Average   False        True  2.092203   \n",
       "2  Runtime Category  Very Short     Long   False        True -0.026377   \n",
       "3  Runtime Category       Short  Average   False        True -0.627665   \n",
       "4  Runtime Category       Short     Long   False        True -2.703299   \n",
       "5  Runtime Category     Average     Long   False        True -2.175033   \n",
       "\n",
       "          dof alternative     p-unc    p-corr p-adjust   BF10    hedges  \n",
       "0  294.603448   two-sided  0.009492  0.056952     bonf  3.205  0.299442  \n",
       "1  287.181085   two-sided  0.037298  0.223789     bonf   1.02  0.240784  \n",
       "2  285.953839   two-sided  0.978975  1.000000     bonf   0.13 -0.003088  \n",
       "3  293.497202   two-sided  0.530711  1.000000     bonf  0.154 -0.072717  \n",
       "4  277.845104   two-sided  0.007289  0.043732     bonf  4.107 -0.320032  \n",
       "5  270.308763   two-sided  0.030495  0.182967     bonf  1.231 -0.259605  "
      ]
     },
     "execution_count": 298,
     "metadata": {},
     "output_type": "execute_result"
    }
   ],
   "source": [
    "#Since ANOVA test resuslts in p-value of less than our significance level (0.05)>0.008326, we know that at least\n",
    "#2 categories have significantly different IMDB Scores\n",
    "#Conduct pairwise tests to determine these categories\n",
    "pingouin.pairwise_tests(data=df,dv=\"IMDB Score\",between=\"Runtime Category\",padjust=\"bonf\")\n",
    "#df.head()"
   ]
  },
  {
   "cell_type": "code",
   "execution_count": 297,
   "id": "cb09580e",
   "metadata": {},
   "outputs": [],
   "source": [
    "#From our hypothesis test, we can reject the null hypothesis since the p-value is less than the significance level\n",
    "#for 4 categories-> accept alternative hypothesis that average IMDB Score is higher for movies that run longer"
   ]
  }
 ],
 "metadata": {
  "kernelspec": {
   "display_name": "Python 3 (ipykernel)",
   "language": "python",
   "name": "python3"
  },
  "language_info": {
   "codemirror_mode": {
    "name": "ipython",
    "version": 3
   },
   "file_extension": ".py",
   "mimetype": "text/x-python",
   "name": "python",
   "nbconvert_exporter": "python",
   "pygments_lexer": "ipython3",
   "version": "3.9.12"
  }
 },
 "nbformat": 4,
 "nbformat_minor": 5
}
